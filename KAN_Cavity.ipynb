{
 "cells": [
  {
   "cell_type": "code",
   "execution_count": 1,
   "metadata": {},
   "outputs": [],
   "source": [
    "import torch\n",
    "from torch import autograd\n",
    "from torch.utils.tensorboard import SummaryWriter\n",
    "from tqdm import tqdm\n",
    "import matplotlib.pyplot as plt\n",
    "import numpy as np\n",
    "from typing import Dict, List, Set, Optional, Union, Callable\n",
    "from kan import KAN, LBFGS"
   ]
  },
  {
   "cell_type": "code",
   "execution_count": 2,
   "metadata": {},
   "outputs": [
    {
     "name": "stdout",
     "output_type": "stream",
     "text": [
      "Using device: cuda:0\n"
     ]
    }
   ],
   "source": [
    "device = torch.device(\"cuda:0\")\n",
    "print(\"Using device:\", device)\n",
    "\n",
    "rho = torch.tensor(1.0, device=device)\n",
    "nu = torch.tensor(0.01, device=device)\n",
    "eps = torch.tensor(1e-8, device=device)\n",
    "\n",
    "width, height = 1.0, 1.0\n",
    "num_points_x, num_points_y = 100, 100\n",
    "\n",
    "x = torch.linspace(0, width, num_points_x, device=device)\n",
    "y = torch.linspace(0, height, num_points_y, device=device)\n",
    "X, Y = torch.meshgrid(x, y, indexing='ij')\n",
    "coordinates = torch.stack([X.flatten(), Y.flatten()], dim=1)\n",
    "coordinates = coordinates.requires_grad_()\n",
    "\n",
    "model = KAN(width=[2,16,16, 3], grid=5, k=3, grid_eps=1.0,\n",
    "            noise_scale_base=0., device=torch.device('cuda:0')).to(device)"
   ]
  },
  {
   "cell_type": "code",
   "execution_count": null,
   "metadata": {
    "scrolled": true
   },
   "outputs": [
    {
     "name": "stderr",
     "output_type": "stream",
     "text": [
      "\r",
      "Training Progress:   0%|                                                                       | 0/200 [00:00<?, ?it/s]"
     ]
    }
   ],
   "source": [
    "# def batch_jacobian(func, x, create_graph=False):\n",
    "#     # x in shape (Batch, Length)\n",
    "#     def _func_sum(x):\n",
    "#         return func(x).sum(dim=0)\n",
    "#     return autograd.functional.jacobian(_func_sum, x, create_graph=create_graph).permute(1, 0, 2)\n",
    "\n",
    "\n",
    "def navier_stokes_residuals(coords):\n",
    "    y_pred = model(coords)\n",
    "    # grads = batch_jacobian(model, coords)\n",
    "    # hess = autograd.functional.hessian(model,coords)\n",
    "    u, v, p = y_pred[:, 0:1], y_pred[:, 1:2], y_pred[:, 2:3]\n",
    "    u_xy = autograd.grad(u, coords, grad_outputs=torch.ones_like(u), create_graph=True)[0]\n",
    "    v_xy = autograd.grad(v, coords, grad_outputs=torch.ones_like(v), create_graph=True)[0]\n",
    "    p_xy = autograd.grad(p, coords, grad_outputs=torch.ones_like(p), create_graph=True)[0]\n",
    "    u_x, u_y = u_xy[:, 0:1], u_xy[:, 1:2]\n",
    "    v_x, v_y = v_xy[:, 0:1], v_xy[:, 1:2]\n",
    "    p_x, p_y = p_xy[:, 0:1], p_xy[:, 1:2]\n",
    "\n",
    "    u_xx = autograd.grad(u_x, coords, grad_outputs=torch.ones_like(u_x), create_graph=True)[0][:, 0:1]\n",
    "    u_yy = autograd.grad(u_y, coords, grad_outputs=torch.ones_like(u_y), create_graph=True)[0][:, 1:2]\n",
    "    v_xx = autograd.grad(v_x, coords, grad_outputs=torch.ones_like(v_x), create_graph=True)[0][:, 0:1]\n",
    "    v_yy = autograd.grad(v_y, coords, grad_outputs=torch.ones_like(v_y), create_graph=True)[0][:, 1:2]\n",
    "    \n",
    "#     u_x, u_y = grads[:, 0, 0], grads[:, 0, 1]\n",
    "#     v_x, v_y = grads[:, 1, 0], grads[:, 1, 1]\n",
    "#     p_x, p_y = grads[:, 2, 0], grads[:, 2, 1]\n",
    "\n",
    "#     u_xx = hess[:,0,0]\n",
    "#     u_yy = hess[:,1,1]\n",
    "\n",
    "#     v_xx = hess[:,]\n",
    "\n",
    "    \n",
    "\n",
    "    continuity = u_x + v_y  # Assuming incompressibility (no source/sink terms)\n",
    "    x_momentum = u * u_x + v * u_y + (1 / rho) * p_x - nu * (u_xx + u_yy)\n",
    "    y_momentum = u * v_x + v * v_y + (1 / rho) * p_y - nu * (v_xx + v_yy)\n",
    "\n",
    "    #coords are a Nx2 tensor where each row is [x, y]\n",
    "    no_slip_mask = (coords[:, 0:1] == 0) |  (coords[:,1:2] == 0) |  (coords[:, 0:1] == width)  # No-slip at left,bottom and right \n",
    "    lid_mask = (coords[:, 1:2] == height)  # Top at y = height\n",
    "    #right_mask = (coords[:, 0] == width)  # Outlet at x = width\n",
    "\n",
    "    # Applying boundary conditions\n",
    "    no_slip_loss = torch.mean(u[no_slip_mask] ** 2 + v[no_slip_mask] ** 2)  # u and v should be zero\n",
    "    lid_loss = torch.mean((u[lid_mask] - 1) ** 2)  # u should be 1, v should be 0 at inlet\n",
    "    #outlet_pressure_loss = torch.mean(p[outlet_mask] ** 2)  # p should be 0 at outlet\n",
    "\n",
    "    # Combine all losses\n",
    "    bc_loss = no_slip_loss + lid_loss \n",
    "    total_loss = torch.mean(continuity ** 2 + x_momentum ** 2 + y_momentum ** 2) + bc_loss\n",
    "    return total_loss\n",
    "\n",
    "\n",
    "\n",
    "writer = SummaryWriter()\n",
    "\n",
    "\n",
    "def train():\n",
    "    optimizer = LBFGS(model.parameters(), lr=1,\n",
    "                      history_size=10, line_search_fn=\"strong_wolfe\", tolerance_grad=1e-32, tolerance_change=1e-32, tolerance_ys=1e-32)\n",
    "    steps = 200\n",
    "    pbar = tqdm(range(steps), desc='Training Progress')\n",
    "\n",
    "    for step in pbar:\n",
    "        def closure():\n",
    "            optimizer.zero_grad()\n",
    "            loss = navier_stokes_residuals(coordinates)\n",
    "            loss.backward()\n",
    "            return loss\n",
    "\n",
    "        optimizer.step(closure)\n",
    "        if step % 5 == 0:\n",
    "            current_loss = closure().item()\n",
    "            pbar.set_description(\"Step: %d | Loss: %.3f\" %\n",
    "                                 (step, current_loss))\n",
    "            writer.add_scalar('Loss/train', current_loss, step)\n",
    "\n",
    "\n",
    "train()\n",
    "\n",
    "writer.close()\n"
   ]
  },
  {
   "cell_type": "code",
   "execution_count": null,
   "metadata": {},
   "outputs": [],
   "source": [
    "u_pred = model(coordinates)[:, 0].detach().reshape(\n",
    "    num_points_x, num_points_y).T.cpu()\n",
    "\n",
    "v_pred = model(coordinates)[:, 1].detach().reshape(\n",
    "    num_points_x, num_points_y).T.cpu()\n",
    "\n",
    "\n",
    "#magnitude = torch.sqrt(u_pred ** 2 + v_pred ** 2)\n",
    "Y, X  = np.mgrid[0:width:100j,0:height:100j]\n",
    "\n",
    "plt.figure(figsize=(8, 8))  # Set the figure size as needed\n",
    "#plt.imshow(u_pred, extent=(0, width, 0, height), origin='lower', cmap='viridis')\n",
    "plt.streamplot(X,Y,u_pred,v_pred,density=[0.5,1])\n",
    "plt.colorbar()  # Add a colorbar to show the magnitude scale\n",
    "plt.title('Velocity Magnitude Contour')\n",
    "plt.xlabel('Width')\n",
    "plt.ylabel('Height')\n",
    "\n",
    "plt.axis('equal')  # Ensure the plot has equal scaling\n",
    "\n",
    "plt.tight_layout()  # Adjust layout to prevent overlap\n",
    "plt.savefig(\"cavity.png\")\n",
    "plt.show()\n"
   ]
  },
  {
   "cell_type": "code",
   "execution_count": null,
   "metadata": {},
   "outputs": [],
   "source": []
  },
  {
   "cell_type": "code",
   "execution_count": null,
   "metadata": {},
   "outputs": [],
   "source": [
    "model.plot(beta=10)"
   ]
  }
 ],
 "metadata": {
  "kernelspec": {
   "display_name": "Python 3 (ipykernel)",
   "language": "python",
   "name": "python3"
  },
  "language_info": {
   "codemirror_mode": {
    "name": "ipython",
    "version": 3
   },
   "file_extension": ".py",
   "mimetype": "text/x-python",
   "name": "python",
   "nbconvert_exporter": "python",
   "pygments_lexer": "ipython3",
   "version": "3.11.7"
  }
 },
 "nbformat": 4,
 "nbformat_minor": 4
}
